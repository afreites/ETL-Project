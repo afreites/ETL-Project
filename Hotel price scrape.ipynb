{
 "cells": [
  {
   "cell_type": "code",
   "execution_count": 1,
   "metadata": {},
   "outputs": [],
   "source": [
    "import urllib.request, urllib.parse, urllib.error\n",
    "from bs4 import BeautifulSoup\n",
    "import ssl\n",
    "import json\n",
    "import re\n",
    "import sys\n",
    "from splinter import Browser\n",
    "import os\n",
    "import csv\n",
    "import threading\n",
    "import requests\n",
    "import time"
   ]
  },
  {
   "cell_type": "code",
   "execution_count": 2,
   "metadata": {},
   "outputs": [],
   "source": [
    "executable_path = {'executable_path': 'chromedriver'}\n",
    "browser = Browser('chrome', **executable_path, headless=False)"
   ]
  },
  {
   "cell_type": "code",
   "execution_count": 5,
   "metadata": {},
   "outputs": [
    {
     "name": "stdout",
     "output_type": "stream",
     "text": [
      "14\n"
     ]
    }
   ],
   "source": [
    "url=\"https://ca.hotels.com/search.do?resolved-location=GEO_LOCATION%3AToronto,%20ON%20M2N%200H1,%20Canada%7C43.75801086425781%7C-79.40361022949219%3AGEOCODE%3AUNKNOWN&q-destination=Toronto,%20ON%20M2N%200H1,%20Canada&q-check-in=2019-04-16&q-check-out=2019-04-17&q-rooms=1&q-room-0-adults=2&q-room-0-children=0&sort-order=DISTANCE_FROM_LANDMARK\"\n",
    "browser.visit(url)\n",
    "results=[]\n",
    "counter=0\n",
    "while counter <5:\n",
    "    start_px = 800*(counter)\n",
    "    px = 800*(counter+1)\n",
    "    browser.execute_script(f\"window.scrollTo(800, document.body.scrollHeight);\")\n",
    "    browser.find_by_tag('ol').mouse_out()\n",
    "    time.sleep(3)\n",
    "    html = browser.html\n",
    "    soup = BeautifulSoup(html, 'html.parser')\n",
    "\n",
    "    hotel_json = {}\n",
    "    soup.prettify()\n",
    "\n",
    "    results = soup.find_all('section', class_=\"hotel-wrap\")\n",
    "    \n",
    "#     for result in results:\n",
    "#         #pricing = result.find('div', class_=\"price\")\n",
    "#         #price = pricing.ins\n",
    "#         #price2 = pricing.strong\n",
    "\n",
    "#         price3 = result.find('a', class_=\"price-link\").text\n",
    "\n",
    "    counter+=1\n",
    "\n",
    "\n",
    "print(len(results))\n",
    "    #print(price)\n",
    "    #print(price2)\n"
   ]
  },
  {
   "cell_type": "code",
   "execution_count": null,
   "metadata": {},
   "outputs": [],
   "source": []
  },
  {
   "cell_type": "code",
   "execution_count": null,
   "metadata": {},
   "outputs": [],
   "source": []
  }
 ],
 "metadata": {
  "kernelspec": {
   "display_name": "Python 3",
   "language": "python",
   "name": "python3"
  },
  "language_info": {
   "codemirror_mode": {
    "name": "ipython",
    "version": 3
   },
   "file_extension": ".py",
   "mimetype": "text/x-python",
   "name": "python",
   "nbconvert_exporter": "python",
   "pygments_lexer": "ipython3",
   "version": "3.7.1"
  }
 },
 "nbformat": 4,
 "nbformat_minor": 2
}
